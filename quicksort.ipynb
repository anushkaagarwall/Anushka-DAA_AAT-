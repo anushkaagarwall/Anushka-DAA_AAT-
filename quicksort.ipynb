{
  "nbformat": 4,
  "nbformat_minor": 0,
  "metadata": {
    "colab": {
      "provenance": []
    },
    "kernelspec": {
      "name": "python3",
      "display_name": "Python 3"
    },
    "language_info": {
      "name": "python"
    }
  },
  "cells": [
    {
      "cell_type": "code",
      "execution_count": null,
      "metadata": {
        "id": "slYNPas7wnh6"
      },
      "outputs": [],
      "source": [
        "def quicksort(arr):\n",
        "    if len(arr) <= 1:\n",
        "        return arr\n",
        "    pivot = arr[0]\n",
        "    left = [x for x in arr[1:] if x < pivot]\n",
        "    mid = [x for x in arr if x == pivot]\n",
        "    right = [x for x in arr[1:] if x > pivot]\n",
        "    return quicksort(left) + mid + quicksort(right)\n",
        "\n",
        "n = int(input())\n",
        "arr = list(map(int, input().split()))\n",
        "ans = quicksort(arr)\n",
        "\n",
        "for num in ans:\n",
        "    print(num, end=' ')"
      ]
    }
  ]
}