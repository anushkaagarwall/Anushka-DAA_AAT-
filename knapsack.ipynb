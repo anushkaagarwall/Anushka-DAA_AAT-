{
  "nbformat": 4,
  "nbformat_minor": 0,
  "metadata": {
    "colab": {
      "provenance": []
    },
    "kernelspec": {
      "name": "python3",
      "display_name": "Python 3"
    },
    "language_info": {
      "name": "python"
    }
  },
  "cells": [
    {
      "cell_type": "code",
      "execution_count": null,
      "metadata": {
        "id": "slYNPas7wnh6"
      },
      "outputs": [],
      "source": [
        "#KNAPSACK\n",
        "def subset_sum(n, k, arr):\n",
        "    possiblesums = [0] * (k + 1)\n",
        "    for i in range(1, k + 1):\n",
        "        for num in arr:\n",
        "            if num <= i:\n",
        "                possiblesums[i] = max(possiblesums[i], possiblesums[i - num] + num)\n",
        "    return possiblesums[k]\n",
        "\n",
        "t = int(input())\n",
        "\n",
        "for _ in range(t):\n",
        "    n, k = map(int, input().split())\n",
        "    arr = list(map(int, input().split()))\n",
        "    print(subset_sum(n, k, arr))"
      ]
    }
  ]
}