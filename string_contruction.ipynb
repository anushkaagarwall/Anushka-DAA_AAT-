{
  "nbformat": 4,
  "nbformat_minor": 0,
  "metadata": {
    "colab": {
      "provenance": []
    },
    "kernelspec": {
      "name": "python3",
      "display_name": "Python 3"
    },
    "language_info": {
      "name": "python"
    }
  },
  "cells": [
    {
      "cell_type": "code",
      "execution_count": null,
      "metadata": {
        "id": "slYNPas7wnh6"
      },
      "outputs": [],
      "source": [
        "#STRING CONSTRUCTION\n",
        "n = int(input())\n",
        "for _ in range(n):\n",
        "    input_str = input()\n",
        "    visited = set()\n",
        "    cost = 0\n",
        "    for char in input_str:\n",
        "        if char not in visited:\n",
        "            cost += 1\n",
        "            visited.add(char)\n",
        "    print(cost)"
      ]
    }
  ]
}